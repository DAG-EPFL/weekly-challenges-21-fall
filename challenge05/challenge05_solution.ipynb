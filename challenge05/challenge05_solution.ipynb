{
 "cells": [
  {
   "cell_type": "markdown",
   "metadata": {},
   "source": [
    "<img src=\"https://i.ibb.co/hcrKx44/Weekly-Challenge-Banner.png\" >"
   ]
  },
  {
   "cell_type": "markdown",
   "metadata": {},
   "source": [
    "# Weekly Challenge 5\n",
    "## Description\n",
    "\n",
    "Welcome to the 5th challenge! This semester, the challenges will focus more on algorithmic tasks, with the aim of preparing you for future data science job interviews! This week, we will construct and visualize a DAG (yes, really!).\n",
    "\n",
    "This challenge was adapted from [Advent of Code 2018](https://adventofcode.com)—if you like these challenges, you'll love Advent of Code (it's an advent calendar with coding challenges!)."
   ]
  },
  {
   "cell_type": "markdown",
   "metadata": {},
   "source": [
    "## The task\n",
    "\n",
    "You manage to clean the stream from last week's challenge and decide to head back to EPFL for a coffee at SAT. Unfortunately, they are having trouble with their new espresso machine. Indeed, they decided to order it from a Swedish furniture store and the machine came unassembled! They are scratching their head because the assembly instructions included with the espresso machine kit are all scrambled up; it is unclear which step to follow first. You decide to help and take a look at the assembly sheet.\n",
    "\n",
    "The instructions specify a series of steps and requirements about which steps must be finished before others can begin (your puzzle input). Each step is designated by a single letter. For example, suppose you have the following instructions:\n",
    "\n",
    "    Step C must be finished before step A can begin.\n",
    "    Step C must be finished before step F can begin.\n",
    "    Step A must be finished before step B can begin.\n",
    "    Step A must be finished before step D can begin.\n",
    "    Step B must be finished before step E can begin.\n",
    "    Step D must be finished before step E can begin.\n",
    "    Step F must be finished before step E can begin.\n",
    "    \n",
    "Visually, these requirements look like this:\n",
    "\n",
    "      -->A--->B--\n",
    "     /    \\      \\\n",
    "    C      -->D----->E\n",
    "     \\           /\n",
    "      ---->F-----\n",
    "\n",
    "Your first goal is to determine the order in which the steps should be completed. If more than one step is ready, choose the step which is first alphabetically. In this example, the steps would be completed as follows:\n",
    "\n",
    "- Only C is available, and so it is done first.\n",
    "- Next, both A and F are available. A is first alphabetically, so it is done next.\n",
    "- Then, even though F was available earlier, steps B and D are now also available, and B is the first alphabetically of the three.\n",
    "- After that, only D and F are available. E is not available because only some of its prerequisites are complete. Therefore, D is completed next.\n",
    "- F is the only choice, so it is done next.\n",
    "- Finally, E is completed.\n",
    "\n",
    "So, in this example, the correct order is CABDFE.\n",
    "\n",
    "Your task is to write a function that, given an array of instructions, returns the correct order in which the tasks have to completed."
   ]
  },
  {
   "cell_type": "markdown",
   "metadata": {},
   "source": [
    "## Solution"
   ]
  },
  {
   "cell_type": "code",
   "execution_count": 1,
   "metadata": {},
   "outputs": [],
   "source": [
    "#################################################\n",
    "############# YOUR CODE STARTS HERE #############\n",
    "#################################################\n",
    "\n",
    "import numpy as np\n",
    "\n",
    "def get_order(instructions: []):\n",
    "    # get number of total steps\n",
    "    steps = set()\n",
    "    for line in instructions:\n",
    "        parts = line.split()\n",
    "        steps.add(parts[1])\n",
    "        steps.add(parts[7])\n",
    "\n",
    "    steps = sorted(list(steps))\n",
    "    \n",
    "    # build prerequisite matrix\n",
    "    prereqs = np.zeros((len(steps), len(steps)))\n",
    "    for line in instructions:\n",
    "        parts = line.split()\n",
    "\n",
    "        p1 = steps.index(parts[1])\n",
    "        p2 = steps.index(parts[7])\n",
    "\n",
    "        prereqs[p1, p2] = 1\n",
    "    \n",
    "    # now, the cols of `prereqs` represent the prerequisites\n",
    "    # -> a col of zeros means no prereqs\n",
    "\n",
    "    visited = list()\n",
    "    while prereqs.sum() > 0:\n",
    "        # get first column of zeros\n",
    "        nonzeros = prereqs.any(axis=0)\n",
    "        zeros = np.where(~nonzeros)[0]\n",
    "        zeros = [z for z in zeros if z not in visited]\n",
    "\n",
    "        assert len(zeros) > 0\n",
    "        col = zeros[0]\n",
    "\n",
    "        # perform step\n",
    "        visited.append(col)\n",
    "\n",
    "        # remove as prereq from other steps\n",
    "        prereqs[col,:] = np.zeros(len(steps))\n",
    "\n",
    "    # append missing steps\n",
    "    for i in range(len(steps)):\n",
    "        if i not in visited:\n",
    "            visited.append(i)\n",
    "\n",
    "    order = \"\".join(map(lambda s: steps[s], visited))\n",
    "    return order    \n",
    "\n",
    "#################################################\n",
    "############## YOUR CODE ENDS HERE ##############\n",
    "#################################################"
   ]
  },
  {
   "cell_type": "markdown",
   "metadata": {},
   "source": [
    "## Test your code"
   ]
  },
  {
   "cell_type": "code",
   "execution_count": 2,
   "metadata": {},
   "outputs": [
    {
     "name": "stdout",
     "output_type": "stream",
     "text": [
      "\u001b[92mPassed test \u001b[0m\n"
     ]
    }
   ],
   "source": [
    "# Validation\n",
    "data = \"\"\"Step C must be finished before step A can begin.\n",
    "Step C must be finished before step F can begin.\n",
    "Step A must be finished before step B can begin.\n",
    "Step A must be finished before step D can begin.\n",
    "Step B must be finished before step E can begin.\n",
    "Step D must be finished before step E can begin.\n",
    "Step F must be finished before step E can begin.\"\"\"\n",
    "instructions = [line.rstrip() for line in data.split(\"\\n\")]\n",
    "output = \"CABDFE\"\n",
    "\n",
    "answer = get_order(instructions)\n",
    "\n",
    "# Check answer\n",
    "if answer == output:\n",
    "    print(f'\\033[92mPassed test \\033[0m')\n",
    "else:\n",
    "    print(f'\\033[91mFailed test \\033[0m')\n",
    "    print(f'Output: {answer}')\n",
    "    print(f'Expected: {output}')"
   ]
  },
  {
   "cell_type": "markdown",
   "metadata": {},
   "source": [
    "## Submission\n",
    "\n",
    "Compute the **order in which the instructions given in `input.txt` have to be completed** (as a string, e.g., `FJNRAXUOPIYQ`)."
   ]
  },
  {
   "cell_type": "code",
   "execution_count": 3,
   "metadata": {},
   "outputs": [
    {
     "name": "stdout",
     "output_type": "stream",
     "text": [
      "ABGKCMVWYDEHFOPQUILSTNZRJX\n"
     ]
    }
   ],
   "source": [
    "with open(\"input.txt\", \"r\") as f:\n",
    "    data = [line.rstrip() for line in f.readlines()]\n",
    "    \n",
    "print(get_order(data))"
   ]
  },
  {
   "cell_type": "markdown",
   "metadata": {},
   "source": [
    "## Congratulations to everyone that got the answer!"
   ]
  }
 ],
 "metadata": {
  "interpreter": {
   "hash": "89ce0d2496d8c7799051f21e6df35e3120a1357e2f4a4ec96fa3b66d242dcbb2"
  },
  "kernelspec": {
   "display_name": "Python 3 (ipykernel)",
   "language": "python",
   "name": "python3"
  },
  "language_info": {
   "codemirror_mode": {
    "name": "ipython",
    "version": 3
   },
   "file_extension": ".py",
   "mimetype": "text/x-python",
   "name": "python",
   "nbconvert_exporter": "python",
   "pygments_lexer": "ipython3",
   "version": "3.9.5"
  }
 },
 "nbformat": 4,
 "nbformat_minor": 4
}
