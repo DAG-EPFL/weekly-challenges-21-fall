{
 "cells": [
  {
   "cell_type": "markdown",
   "metadata": {},
   "source": [
    "<img src=\"https://i.ibb.co/hcrKx44/Weekly-Challenge-Banner.png\" >"
   ]
  },
  {
   "cell_type": "markdown",
   "metadata": {},
   "source": [
    "# Weekly Challenge 6\n",
    "## Description\n",
    "\n",
    "Welcome to the 6th challenge! This semester, the challenges will focus more on algorithmic tasks, with the aim of preparing you for future data science job interviews! This week, you will try to find the optimal seating placement for students at SAT after a long exam.\n",
    "\n",
    "This challenge was adapted from [Advent of Code 2015](https://adventofcode.com)—if you like these challenges, you'll love Advent of Code (it's an advent calendar with coding challenges!)."
   ]
  },
  {
   "cell_type": "markdown",
   "metadata": {},
   "source": [
    "## The task\n",
    "\n",
    "You've been studying at EPFL for a few years now and exam season is coming up. As always, you look forward to a crisp, refreshing, cold drink at SAT at 9am after handing in your copy of the 8am exam as early as possible (how would you flex on your fellow peers otherwise?). However, you recall, the past few SAT seshs haven't gone so well—not everyone has the same post-exam reaction! After your friends join you and marvel at the speed at which you finished the exam, some prefer to obsessively check all their answers, while others just want to drink their sorrows away. As a result, instead of enjoying your well-deserved escape into inebriation, you have to deal with the tension between the different groups.\n",
    "\n",
    "This year, you resolve, will be different. You're going to find the optimal seating arrangement and avoid all the tension.\n",
    "\n",
    "You start by writing up a list of everyone you think will finish the exam in under 2 hours (because, let's be frank, would you *really* want to chill with students needing the entire 3 hours?) and the amount their happiness would increase or decrease if they were to find themselves sitting next to each other person. You have a circular table that will be just big enough to fit everyone comfortably (one of the benefits of being at SAT at 9am), and so each person will have exactly two neighbors.\n",
    "\n",
    "For example, suppose you have only four attendees planned, and you calculate their potential happiness as follows:\n",
    "\n",
    "    Alice would gain 54 happiness units by sitting next to Bob.\n",
    "    Alice would lose 79 happiness units by sitting next to Carol.\n",
    "    Alice would lose 2 happiness units by sitting next to David.\n",
    "    Bob would gain 83 happiness units by sitting next to Alice.\n",
    "    Bob would lose 7 happiness units by sitting next to Carol.\n",
    "    Bob would lose 63 happiness units by sitting next to David.\n",
    "    Carol would lose 62 happiness units by sitting next to Alice.\n",
    "    Carol would gain 60 happiness units by sitting next to Bob.\n",
    "    Carol would gain 55 happiness units by sitting next to David.\n",
    "    David would gain 46 happiness units by sitting next to Alice.\n",
    "    David would lose 7 happiness units by sitting next to Bob.\n",
    "    David would gain 41 happiness units by sitting next to Carol.\n",
    "\n",
    "Then, if you seat Alice next to David, Alice would lose 2 happiness units (because David talks so much about exercise 2A), but David would gain 46 happiness units (because Alice got the same answer for exercises 1 and 2B—but wait what did you get for 2A?), for a total change of 44.\n",
    "\n",
    "If you continue around the table, you could then seat Bob next to Alice (Bob gains 83, Alice gains 54). Finally, seat Carol, who sits next to Bob (Carol gains 60, Bob loses 7) and David (Carol gains 55, David gains 41). The arrangement looks like this:\n",
    "\n",
    "        +41 +46\n",
    "    +55   David    -2\n",
    "    Carol       Alice\n",
    "    +60    Bob    +54\n",
    "        -7  +83\n",
    "\n",
    "After trying every other seating arrangement in this hypothetical scenario, you find that this one is the most optimal, with a total change in happiness of 330.\n"
   ]
  },
  {
   "cell_type": "markdown",
   "metadata": {},
   "source": [
    "## Your code"
   ]
  },
  {
   "cell_type": "code",
   "execution_count": null,
   "metadata": {},
   "outputs": [],
   "source": [
    "#################################################\n",
    "############# YOUR CODE STARTS HERE #############\n",
    "#################################################\n",
    "\n",
    "def eval_str(string):\n",
    "    pass\n",
    "\n",
    "#################################################\n",
    "############## YOUR CODE ENDS HERE ##############\n",
    "#################################################"
   ]
  },
  {
   "cell_type": "markdown",
   "metadata": {},
   "source": [
    "## Test your code"
   ]
  },
  {
   "cell_type": "code",
   "execution_count": null,
   "metadata": {},
   "outputs": [],
   "source": [
    "# Validation\n",
    "data = \"\"\"Alice would gain 54 happiness units by sitting next to Bob.\n",
    "Alice would lose 79 happiness units by sitting next to Carol.\n",
    "Alice would lose 2 happiness units by sitting next to David.\n",
    "Bob would gain 83 happiness units by sitting next to Alice.\n",
    "Bob would lose 7 happiness units by sitting next to Carol.\n",
    "Bob would lose 63 happiness units by sitting next to David.\n",
    "Carol would lose 62 happiness units by sitting next to Alice.\n",
    "Carol would gain 60 happiness units by sitting next to Bob.\n",
    "Carol would gain 55 happiness units by sitting next to David.\n",
    "David would gain 46 happiness units by sitting next to Alice.\n",
    "David would lose 7 happiness units by sitting next to Bob.\n",
    "David would gain 41 happiness units by sitting next to Carol.\"\"\"\n",
    "constraints = [line.rstrip() for line in data.split(\"\\n\")]\n",
    "output = 330\n",
    "\n",
    "answer = find_max_score(constraints)\n",
    "\n",
    "# Check answer\n",
    "if answer == output:\n",
    "    print(f'\\033[92mPassed test \\033[0m')\n",
    "else:\n",
    "    print(f'\\033[91mFailed test \\033[0m')\n",
    "    print(f'Output: {answer}')\n",
    "    print(f'Expected: {output}')"
   ]
  },
  {
   "cell_type": "markdown",
   "metadata": {},
   "source": [
    "## Submission\n",
    "\n",
    "Submit the **total change in happiness for the optimal seating arrangement** for the students given in `input.txt` on the following link: [https://forms.gle/j44Z95xJgUCCX8Mp6](https://forms.gle/j44Z95xJgUCCX8Mp6)."
   ]
  },
  {
   "cell_type": "code",
   "execution_count": null,
   "metadata": {},
   "outputs": [],
   "source": [
    "with open(\"input.txt\", \"r\") as f:\n",
    "    constraints = [line.rstrip() for line in f.readlines()]\n",
    "\n",
    "find_max_score(constraints)"
   ]
  }
 ],
 "metadata": {
  "interpreter": {
   "hash": "89ce0d2496d8c7799051f21e6df35e3120a1357e2f4a4ec96fa3b66d242dcbb2"
  },
  "kernelspec": {
   "display_name": "Python 3 (ipykernel)",
   "language": "python",
   "name": "python3"
  },
  "language_info": {
   "codemirror_mode": {
    "name": "ipython",
    "version": 3
   },
   "file_extension": ".py",
   "mimetype": "text/x-python",
   "name": "python",
   "nbconvert_exporter": "python",
   "pygments_lexer": "ipython3",
   "version": "3.9.5"
  }
 },
 "nbformat": 4,
 "nbformat_minor": 4
}
