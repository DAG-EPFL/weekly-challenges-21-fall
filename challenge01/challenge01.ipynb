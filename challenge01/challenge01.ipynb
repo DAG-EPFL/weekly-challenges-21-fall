{
 "cells": [
  {
   "cell_type": "markdown",
   "metadata": {},
   "source": [
    "<img src=\"https://i.ibb.co/hcrKx44/Weekly-Challenge-Banner.png\" >"
   ]
  },
  {
   "cell_type": "markdown",
   "metadata": {},
   "source": [
    "# Weekly Challenge 1\n",
    "## Description\n",
    "\n",
    "Welcome to the 1st challenge! This semester, the challenges will focus more on algorithmic tasks, with the aim of preparing you for future data science job interviews!\n",
    "\n",
    "This challenge was adapted from [Advent of Code 2020](https://adventofcode.com)—if you like these challenges, you'll love Advent of Code (it's an advent calendar with coding challenges!)."
   ]
  },
  {
   "cell_type": "markdown",
   "metadata": {},
   "source": [
    "## The task\n",
    "\n",
    "While tidying up your room, you stumble upon an old Analysis I exercise sheet. You see that you never checked your answers and you can't find the solution sheet, so you get really stressed out. Suddenly, you have a brilliant idea: you decide to develop an app that lets you take a picture of an equation and then solves it for you—akin to [Google Lens](https://www.howtogeek.com/696271/how-to-solve-math-problems-using-google-lens/).\n",
    "\n",
    "You put your machine learning skills to good use and come up with a deep neural network that extracts a string representation of the equation present in the image—so far so good. The next step is to develop the algorithm that evaluates the expression and returns a numerical result.\n",
    "\n",
    "The equations you have to solve consist of a series of additions (`+`), multiplications (`*`), and parentheses (`(...)`). Alas, because your knowledge of basic arithmetic is a little hazy, you forget the rules of operator precedence. Rather than evaluating multiplication before addition, you decide that the operators have the same precedence, and are evaluated left-to-right regardless of the order in which they appear. You do however remember that parentheses indicate that the expression inside must be evaluated before it can be used by the surrounding expression.\n",
    "\n",
    "For example, the steps to evaluate the expression `1 + 2 * 3 + 4 * 5 + 6` are as follows:\n",
    "\n",
    "    1 + 2 * 3 + 4 * 5 + 6\n",
    "      3   * 3 + 4 * 5 + 6\n",
    "          9   + 4 * 5 + 6\n",
    "             13   * 5 + 6\n",
    "                 65   + 6\n",
    "                     71\n",
    "                     \n",
    "Parentheses can override this order; for example, here is what happens if parentheses are added to form `1 + (2 * 3) + (4 * (5 + 6))`:\n",
    "\n",
    "    1 + (2 * 3) + (4 * (5 + 6))\n",
    "    1 +    6    + (4 * (5 + 6))\n",
    "         7      + (4 * (5 + 6))\n",
    "         7      + (4 *   11   )\n",
    "         7      +     44\n",
    "                51   \n",
    "\n",
    "Your task is to write a function that, given a string containing an expression, evaluates and returns the value of that expression (given the rules above)."
   ]
  },
  {
   "cell_type": "markdown",
   "metadata": {},
   "source": [
    "## Your code"
   ]
  },
  {
   "cell_type": "code",
   "execution_count": null,
   "metadata": {},
   "outputs": [],
   "source": [
    "#################################################\n",
    "############# YOUR CODE STARTS HERE #############\n",
    "#################################################\n",
    "\n",
    "def eval_str(string):\n",
    "    pass\n",
    "\n",
    "#################################################\n",
    "############## YOUR CODE ENDS HERE ##############\n",
    "#################################################"
   ]
  },
  {
   "cell_type": "markdown",
   "metadata": {},
   "source": [
    "## Test your code"
   ]
  },
  {
   "cell_type": "code",
   "execution_count": null,
   "metadata": {},
   "outputs": [],
   "source": [
    "# Validation\n",
    "test_inputs = [\"2 * 3 + (4 * 5)\",\n",
    "               \"1 + (2 * 3) + (4 * (5 + 6))\",\n",
    "               \"1 + 2 * 3 + 4 * 5 + 6\",\n",
    "               \"5 + (8 * 3 + 9 + 3 * 4 * 3)\",\n",
    "               \"5 * 9 * (7 * 3 * 3 + 9 * 3 + (8 + 6 * 4))\",\n",
    "               \"((2 + 4 * 9) * (6 + 9 * 8 + 6) + 6) + 2 + 4 * 2\"]\n",
    "\n",
    "test_outputs = [26,\n",
    "                51,\n",
    "                71,\n",
    "                437,\n",
    "                12240,\n",
    "                13632]\n",
    "\n",
    "for i, (input_, output_) in enumerate(zip(test_inputs, test_outputs)):\n",
    "    answer = eval_str(input_)\n",
    "    if answer == output_:\n",
    "        print(f'\\033[92mPassed test {i+1}\\033[0m')\n",
    "    else:\n",
    "        print(f'\\033[91mFailed test {i+1}\\033[0m')\n",
    "        print(f'Input: {input_}')\n",
    "        print(f'Output: {answer}')\n",
    "        print(f'Expected: {output_}')\n",
    "\n",
    "    print()"
   ]
  },
  {
   "cell_type": "markdown",
   "metadata": {},
   "source": [
    "## Submission\n",
    "\n",
    "The file `input.txt` contains an expression on every line. Evaluate the expression on each line and submit the **sum of the resulting values** on the following link: [https://forms.gle/tCxt1tfaN5rPGcmv6](https://forms.gle/tCxt1tfaN5rPGcmv6).\n"
   ]
  },
  {
   "cell_type": "code",
   "execution_count": null,
   "metadata": {},
   "outputs": [],
   "source": [
    "with open(\"input.txt\", \"r\") as f:\n",
    "    data = [line.rstrip() for line in f.readlines()]\n",
    "\n",
    "# look at data\n",
    "print(\"Example of expression: %s\" % data[0])\n",
    "\n",
    "# compute sum\n",
    "print(\"Sum of all lines: %i\" % sum(eval_str(line) for line in data))"
   ]
  }
 ],
 "metadata": {
  "interpreter": {
   "hash": "89ce0d2496d8c7799051f21e6df35e3120a1357e2f4a4ec96fa3b66d242dcbb2"
  },
  "kernelspec": {
   "display_name": "Python 3 (ipykernel)",
   "language": "python",
   "name": "python3"
  },
  "language_info": {
   "codemirror_mode": {
    "name": "ipython",
    "version": 3
   },
   "file_extension": ".py",
   "mimetype": "text/x-python",
   "name": "python",
   "nbconvert_exporter": "python",
   "pygments_lexer": "ipython3",
   "version": "3.9.5"
  }
 },
 "nbformat": 4,
 "nbformat_minor": 4
}
