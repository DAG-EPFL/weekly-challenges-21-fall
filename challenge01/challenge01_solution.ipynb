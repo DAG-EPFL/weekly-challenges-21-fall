{
 "cells": [
  {
   "cell_type": "markdown",
   "metadata": {},
   "source": [
    "<img src=\"https://i.ibb.co/hcrKx44/Weekly-Challenge-Banner.png\" >"
   ]
  },
  {
   "cell_type": "markdown",
   "metadata": {},
   "source": [
    "# Weekly Challenge 1\n",
    "## Description\n",
    "\n",
    "Welcome to the 1st challenge! This semester, the challenges will focus more on algorithmic tasks, with the aim of preparing you for future data science job interviews!\n",
    "\n",
    "This challenge was adapted from [Advent of Code 2020](https://adventofcode.com)—if you like these challenges, you'll love Advent of Code (it's an advent calendar with coding challenges!)."
   ]
  },
  {
   "cell_type": "markdown",
   "metadata": {},
   "source": [
    "## The task\n",
    "\n",
    "While tidying up your room, you stumble upon an old Analysis I exercise sheet. You see that you never checked your answers and you can't find the solution sheet, so you get really stressed out. Suddenly, you have a brilliant idea: you decide to develop an app that lets you take a picture of an equation and then solves it for you—similarly to [Google Lens](https://www.howtogeek.com/696271/how-to-solve-math-problems-using-google-lens/).\n",
    "\n",
    "You put your machine learning skills to good use and come up with a deep neural network that extracts a string representation of the equation present in the image—so far so good. The next step is to develop the algorithm that evaluates the expression and returns a numerical result.\n",
    "\n",
    "The equations you have to solve consist of a series of additions (`+`), multiplications (`*`), and parentheses (`(...)`). Alas, because your knowledge of basic arithmetic is a little hazy, you forget the rules of operator precedence. Rather than evaluating multiplication before addition, you decide that the operators have the same precedence, and are evaluated left-to-right regardless of the order in which they appear. You do however remember that parentheses indicate that the expression inside must be evaluated before it can be used by the surrounding expression.\n",
    "\n",
    "For example, the steps to evaluate the expression `1 + 2 * 3 + 4 * 5 + 6` are as follows:\n",
    "\n",
    "    1 + 2 * 3 + 4 * 5 + 6\n",
    "      3   * 3 + 4 * 5 + 6\n",
    "          9   + 4 * 5 + 6\n",
    "             13   * 5 + 6\n",
    "                 65   + 6\n",
    "                     71\n",
    "                     \n",
    "Parentheses can override this order; for example, here is what happens if parentheses are added to form `1 + (2 * 3) + (4 * (5 + 6))`:\n",
    "\n",
    "    1 + (2 * 3) + (4 * (5 + 6))\n",
    "    1 +    6    + (4 * (5 + 6))\n",
    "         7      + (4 * (5 + 6))\n",
    "         7      + (4 *   11   )\n",
    "         7      +     44\n",
    "                51   \n",
    "\n",
    "Your task is to write a function that, given a string containing an expression, evaluates and returns the value of that expression (given the rules above)."
   ]
  },
  {
   "cell_type": "markdown",
   "metadata": {},
   "source": [
    "## Solution\n",
    "\n",
    "We solve the problem using recursion. We define a function that splits the string into terms separated by operators (`+` or `*`), evaluates each term, and combines all values using the given operators. If a term contains more than a single number (e.g., parentheses or a nested expression), we recursively apply the function until only numbers and operators are left."
   ]
  },
  {
   "cell_type": "code",
   "execution_count": 1,
   "metadata": {},
   "outputs": [],
   "source": [
    "#################################################\n",
    "############# YOUR CODE STARTS HERE #############\n",
    "#################################################\n",
    "\n",
    "def eval_term(term):\n",
    "    if len(term) > 1:\n",
    "        # our term contains operators and maybe parentheses\n",
    "        return eval_str(term)\n",
    "    else:\n",
    "        # just a number\n",
    "        return int(term)\n",
    "\n",
    "def eval_str(string):\n",
    "    terms, ops = [], []\n",
    "    \n",
    "    i = 0\n",
    "    while i < len(string):\n",
    "        char = string[i]\n",
    "        \n",
    "        if char == ' ':\n",
    "            # do nothing\n",
    "            pass\n",
    "        elif char == '(':\n",
    "            # find closing parenthesis\n",
    "            level = 0\n",
    "            start = i+1\n",
    "            while i < len(string):\n",
    "                if string[i] == '(':\n",
    "                    level += 1\n",
    "                elif string[i] == ')':\n",
    "                    if level == 1:\n",
    "                        break\n",
    "                    else:\n",
    "                        level -= 1\n",
    "                i += 1\n",
    "                \n",
    "            terms.append(string[start:i])\n",
    "        \n",
    "        elif char in ['*', '+']:\n",
    "            ops.append(char)\n",
    "            \n",
    "        else:\n",
    "            terms.append(char)\n",
    "        \n",
    "        i += 1\n",
    "        \n",
    "    terms = [eval_term(t) for t in terms]\n",
    "    value = terms[0]\n",
    "    for i, op in enumerate(ops):\n",
    "        if op == '*':\n",
    "            value *= terms[i+1]\n",
    "        elif op == '+':\n",
    "            value += terms[i+1]\n",
    "            \n",
    "    return value\n",
    "\n",
    "#################################################\n",
    "############## YOUR CODE ENDS HERE ##############\n",
    "#################################################"
   ]
  },
  {
   "cell_type": "markdown",
   "metadata": {},
   "source": [
    "## Test your code"
   ]
  },
  {
   "cell_type": "code",
   "execution_count": 2,
   "metadata": {},
   "outputs": [
    {
     "name": "stdout",
     "output_type": "stream",
     "text": [
      "\u001b[92mPassed test 1\u001b[0m\n",
      "\n",
      "\u001b[92mPassed test 2\u001b[0m\n",
      "\n",
      "\u001b[92mPassed test 3\u001b[0m\n",
      "\n",
      "\u001b[92mPassed test 4\u001b[0m\n",
      "\n",
      "\u001b[92mPassed test 5\u001b[0m\n",
      "\n",
      "\u001b[92mPassed test 6\u001b[0m\n",
      "\n"
     ]
    }
   ],
   "source": [
    "# Validation\n",
    "test_inputs = [\"2 * 3 + (4 * 5)\",\n",
    "               \"1 + (2 * 3) + (4 * (5 + 6))\",\n",
    "               \"1 + 2 * 3 + 4 * 5 + 6\",\n",
    "               \"5 + (8 * 3 + 9 + 3 * 4 * 3)\",\n",
    "               \"5 * 9 * (7 * 3 * 3 + 9 * 3 + (8 + 6 * 4))\",\n",
    "               \"((2 + 4 * 9) * (6 + 9 * 8 + 6) + 6) + 2 + 4 * 2\"]\n",
    "\n",
    "test_outputs = [26,\n",
    "                51,\n",
    "                71,\n",
    "                437,\n",
    "                12240,\n",
    "                13632]\n",
    "\n",
    "for i, (input_, output_) in enumerate(zip(test_inputs, test_outputs)):\n",
    "    answer = eval_str(input_)\n",
    "    if answer == output_:\n",
    "        print(f'\\033[92mPassed test {i+1}\\033[0m')\n",
    "    else:\n",
    "        print(f'\\033[91mFailed test {i+1}\\033[0m')\n",
    "        print(f'Input: {input_}')\n",
    "        print(f'Output: {answer}')\n",
    "        print(f'Expected: {output_}')\n",
    "\n",
    "    print()"
   ]
  },
  {
   "cell_type": "markdown",
   "metadata": {},
   "source": [
    "## Submission solution\n",
    "\n",
    "Evaluate the expression on each line of the data given below. Compute the **sum of the resulting values**."
   ]
  },
  {
   "cell_type": "code",
   "execution_count": 3,
   "metadata": {},
   "outputs": [
    {
     "name": "stdout",
     "output_type": "stream",
     "text": [
      "Example of expression: 6 * ((5 * 3 * 2 + 9 * 4) * (8 * 8 + 2 * 3) * 5 * 8) * 2 + (4 + 9 * 5 * 5 + 8) * 4\n",
      "Sum of all lines: 8298263963834\n"
     ]
    }
   ],
   "source": [
    "with open(\"input.txt\", \"r\") as f:\n",
    "    data = [line.rstrip() for line in f.readlines()]\n",
    "\n",
    "# check out data\n",
    "print(\"Example of expression: %s\" % data[0])\n",
    "\n",
    "# compute sum\n",
    "print(\"Sum of all lines: %i\" % sum(eval_str(line) for line in data))"
   ]
  },
  {
   "cell_type": "markdown",
   "metadata": {},
   "source": [
    "## Congratulations to everyone that got the answer!"
   ]
  }
 ],
 "metadata": {
  "interpreter": {
   "hash": "89ce0d2496d8c7799051f21e6df35e3120a1357e2f4a4ec96fa3b66d242dcbb2"
  },
  "kernelspec": {
   "display_name": "Python 3 (ipykernel)",
   "language": "python",
   "name": "python3"
  },
  "language_info": {
   "codemirror_mode": {
    "name": "ipython",
    "version": 3
   },
   "file_extension": ".py",
   "mimetype": "text/x-python",
   "name": "python",
   "nbconvert_exporter": "python",
   "pygments_lexer": "ipython3",
   "version": "3.8.12"
  }
 },
 "nbformat": 4,
 "nbformat_minor": 4
}
