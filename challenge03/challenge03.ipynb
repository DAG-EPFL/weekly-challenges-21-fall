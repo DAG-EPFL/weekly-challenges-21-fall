{
 "cells": [
  {
   "cell_type": "markdown",
   "id": "c8ec8910",
   "metadata": {},
   "source": [
    "<img src=\"https://i.ibb.co/hcrKx44/Weekly-Challenge-Banner.png\" >"
   ]
  },
  {
   "cell_type": "markdown",
   "id": "9abe1b51",
   "metadata": {},
   "source": [
    "# Weekly Challenge 3\n",
    "## Description\n",
    "\n",
    "Welcome to the 3rd challenge! This semester, the challenges will focus more on algorithmic tasks, with the aim of preparing you for future data science job interviews!\n",
    "\n",
    "This challenge was adapted from [Leetcode](https://leetcode.com), a useful platform to enhance your coding skills."
   ]
  },
  {
   "cell_type": "markdown",
   "id": "eb1d0f2a",
   "metadata": {},
   "source": [
    "## The task\n",
    "\n",
    "You have been accepted to do an exchange at ETH Zürich and see the other side of the [Röstigraben](https://en.wikipedia.org/wiki/R%C3%B6stigraben)! To prepare for the new semester, you enrol in a German class at EPFL with the hope of mastering some small talk conversations. During a lesson about numbers, you are frightened by how the number [777,777](https://www.urbandictionary.com/define.php?term=siebenhundertsiebenundsiebzigtausendsiebenhundertsiebenundsiebzig) is written in German. But how many distinct subsequences of `sieben` (seven in German) are contained in the atrocious `siebenhundertsiebenundsiebzigtausendsiebenhundertsiebenundsiebzig`?\n",
    "\n",
    "\n",
    "In this challenge, you will have to write an algorithm that finds the number of ways of generating a substring _t_ from an input string _s_.\n",
    "\n",
    "**Example:** there are 4 ways of generate \"lane\" from \"lausanne\":\n",
    "* `la`usa`n`n`e`\n",
    "* `la`usan`ne`\n",
    "* `l`aus`an`n`e`\n",
    "* `l`aus`a`n`ne`"
   ]
  },
  {
   "cell_type": "markdown",
   "id": "5ed88f67",
   "metadata": {},
   "source": [
    "## Your code"
   ]
  },
  {
   "cell_type": "code",
   "execution_count": null,
   "id": "16072851",
   "metadata": {},
   "outputs": [],
   "source": [
    "#################################################\n",
    "############# YOUR CODE STARTS HERE #############\n",
    "#################################################\n",
    "\n",
    "def count_subsequences(string, target):\n",
    "    \"\"\"Find the number of ways of generating a target subsequence from an input string.\"\"\"\n",
    "    pass\n",
    "\n",
    "#################################################\n",
    "############## YOUR CODE ENDS HERE ##############\n",
    "#################################################"
   ]
  },
  {
   "cell_type": "markdown",
   "id": "9f1e5323",
   "metadata": {},
   "source": [
    "## Test your code"
   ]
  },
  {
   "cell_type": "code",
   "execution_count": null,
   "id": "053497e4",
   "metadata": {
    "scrolled": true
   },
   "outputs": [],
   "source": [
    "import collections\n",
    "\n",
    "Input = collections.namedtuple('Input', ['string', 'target'])\n",
    "\n",
    "test_inputs = [\n",
    "    Input('lausanne', 'lane'),\n",
    "    Input('dataanalyticsgroup', 'dag'),\n",
    "    Input('weeklychallengenumberthree', 'enter'),\n",
    "    Input('weeklychallengenumberthree', 'len'),\n",
    "    Input('hippopotomonstrosesquippedaliophobie', 'hippo'),\n",
    "    Input('averyveryveryveryveryveryveryverylongstring', 'very'),\n",
    "    Input('siebenhundertsiebenundsiebzigtausendsiebenhundertsiebenundsiebzig', 'sieben')\n",
    "]\n",
    "\n",
    "test_outputs = [\n",
    "    4, \n",
    "    4,\n",
    "    0,\n",
    "    9,\n",
    "    42,\n",
    "    330,\n",
    "    1077,\n",
    "]\n",
    "\n",
    "for i, (input_, output_) in enumerate(zip(test_inputs, test_outputs)):\n",
    "    answer = count_subsequences(input_.string, input_.target)\n",
    "    if answer == output_:\n",
    "        print(f'\\033[92mPassed test {i+1}\\033[0m')\n",
    "    else:\n",
    "        print(f'\\033[91mFailed test {i+1}\\033[0m')\n",
    "        print(f'Input: {input_}')\n",
    "        print(f'Output: {answer}')\n",
    "        print(f'Expected: {output_}')\n",
    "\n",
    "    print()"
   ]
  },
  {
   "cell_type": "markdown",
   "id": "eb5e4589",
   "metadata": {},
   "source": [
    "## Submission\n",
    "\n",
    "Submit **the code of your `count_subsequences` function** (between `YOUR CODE STARTS HERE` and `YOUR CODE ENDS HERE`) on the following link: [https://forms.gle/sGygevwEuNhSh42L9](https://forms.gle/sGygevwEuNhSh42L9). We are looking for either concise solutions (shortest function possible), elegant solutions (code makes us shed a tear), or needlessly complicated solutions."
   ]
  }
 ],
 "metadata": {
  "interpreter": {
   "hash": "31de4a29e5b35cfe45c99975b76ded255fe41fd411eeac3d5b66d676555b8209"
  },
  "kernelspec": {
   "display_name": "Python 3 (ipykernel)",
   "language": "python",
   "name": "python3"
  },
  "language_info": {
   "codemirror_mode": {
    "name": "ipython",
    "version": 3
   },
   "file_extension": ".py",
   "mimetype": "text/x-python",
   "name": "python",
   "nbconvert_exporter": "python",
   "pygments_lexer": "ipython3",
   "version": "3.9.5"
  }
 },
 "nbformat": 4,
 "nbformat_minor": 5
}
