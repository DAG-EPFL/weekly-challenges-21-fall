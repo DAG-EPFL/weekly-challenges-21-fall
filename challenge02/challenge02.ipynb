{
 "cells": [
  {
   "cell_type": "markdown",
   "id": "c8ec8910",
   "metadata": {},
   "source": [
    "<img src=\"https://i.ibb.co/hcrKx44/Weekly-Challenge-Banner.png\" >"
   ]
  },
  {
   "cell_type": "markdown",
   "id": "9abe1b51",
   "metadata": {},
   "source": [
    "# Weekly Challenge 2\n",
    "## Description\n",
    "\n",
    "Welcome to the 2nd challenge! This semester, the challenges will focus more on algorithmic tasks, with the aim of preparing you for future data science job interviews!\n",
    "\n",
    "This challenge was adapted from [Leetcode](https://leetcode.com), a useful platform to enhance your coding skills."
   ]
  },
  {
   "cell_type": "markdown",
   "id": "eb1d0f2a",
   "metadata": {},
   "source": [
    "## The task\n",
    "\n",
    "You have just learned about the potential of [graph neural networks](https://distill.pub/2021/gnn-intro/) from a fellow DAG subscriber. To further your quest to acquire vast knowledge, you decide to enroll in a graph theory course as an introduction.\n",
    "\n",
    "After starting with the famous [\"six degrees of separation\"](https://en.wikipedia.org/wiki/Six_degrees_of_separation) theory, the lecturer shows that some words can be connected through a directed acyclic graph (or a DAG *(wink)*, if you will). In these graphs (also called \"word ladders\"), each adjacent pair of words differs by a single letter.\n",
    "\n",
    "In this challenge, you will have to write an algorithm that returns the length of the shortest path from a **start word** to an **end word** given a list of words that could help form the ladder. If no ladders exist, return 0 as a solution.\n",
    "\n",
    "**Example:** you can go from `hit` to `dog` using the list of words `[\"hit\", \"hot\", \"hog\", \"dog\"]`. The resulting ladder is of length `4`: `\"hit\" -> \"hot\" -> \"hog\" -> \"dog\"`.\n",
    "\n",
    "Each word will be lowercase with at least 1 character. The list should contain both the starting word and the final word. All words in this list have the same length."
   ]
  },
  {
   "cell_type": "markdown",
   "id": "5ed88f67",
   "metadata": {},
   "source": [
    "## Your code"
   ]
  },
  {
   "cell_type": "code",
   "execution_count": null,
   "id": "16072851",
   "metadata": {},
   "outputs": [],
   "source": [
    "#################################################\n",
    "############# YOUR CODE STARTS HERE #############\n",
    "#################################################\n",
    "\n",
    "def word_ladder_length(start, end, word_list):\n",
    "    \"\"\"Return the length of the shortest word ladder.\"\"\"\n",
    "    pass\n",
    "\n",
    "#################################################\n",
    "############## YOUR CODE ENDS HERE ##############\n",
    "#################################################"
   ]
  },
  {
   "cell_type": "markdown",
   "id": "9f1e5323",
   "metadata": {},
   "source": [
    "## Test your code"
   ]
  },
  {
   "cell_type": "code",
   "execution_count": null,
   "id": "053497e4",
   "metadata": {
    "scrolled": true
   },
   "outputs": [],
   "source": [
    "import collections\n",
    "\n",
    "Input = collections.namedtuple('Input', ['start', 'end', 'word_list'])\n",
    "\n",
    "test_inputs = [\n",
    "    Input('epfl', 'ethz', ['epfl', 'epfz', 'ephz', 'ethz']),\n",
    "    Input('ethz', 'epfl', ['epfl', 'ethz', 'heft', 'helf', 'left', 'pelf', 'tefl']),\n",
    "    Input('dag', 'red', ['dag', 'pee', 'red', 'rex', 'tad', 'tag', 'tax', 'ted', 'tex']),\n",
    "    Input('code', 'data', ['cade', 'cate', 'code', 'data', 'date']),\n",
    "    Input('awake', 'sleep', ['awake', 'aware', 'sware', 'stare', 'starn', 'stern', 'steen', 'steep', 'sleep']),\n",
    "    Input('a', 'c', ['a', 'b', 'c']),\n",
    "    Input('swiss', 'wines', ['chaps', 'chats', 'chips', 'coats', 'costs', 'lines', 'lives', 'loses', 'loves', 'poses', 'posts', 'ships', 'skims', 'skips', 'swims', 'swiss', 'wanes', 'wines'])\n",
    "]\n",
    "\n",
    "test_outputs = [\n",
    "    4, \n",
    "    0,\n",
    "    5,\n",
    "    5,\n",
    "    9,\n",
    "    2,\n",
    "    17\n",
    "]\n",
    "\n",
    "for i, (input_, output_) in enumerate(zip(test_inputs, test_outputs)):\n",
    "    answer = word_ladder_length(input_.start, input_.end, input_.word_list)\n",
    "    if answer == output_:\n",
    "        print(f'\\033[92mPassed test {i+1}\\033[0m')\n",
    "    else:\n",
    "        print(f'\\033[91mFailed test {i+1}\\033[0m')\n",
    "        print(f'Input: {input_}')\n",
    "        print(f'Output: {answer}')\n",
    "        print(f'Expected: {output_}')\n",
    "\n",
    "    print()"
   ]
  },
  {
   "cell_type": "markdown",
   "id": "eb5e4589",
   "metadata": {},
   "source": [
    "## Submission\n",
    "\n",
    "Submit **the code of your `word_ladder_length` function** (between `YOUR CODE STARTS HERE` and `YOUR CODE ENDS HERE`) on the following link: [https://forms.gle/RmGHLtbeTpP9ximq9](https://forms.gle/RmGHLtbeTpP9ximq9). We are looking for either concise solutions (shortest function possible), elegant solutions (code makes us shed a tear), or needlessly complicated solutions."
   ]
  }
 ],
 "metadata": {
  "interpreter": {
   "hash": "31de4a29e5b35cfe45c99975b76ded255fe41fd411eeac3d5b66d676555b8209"
  },
  "kernelspec": {
   "display_name": "dag",
   "language": "python",
   "name": "dag"
  },
  "language_info": {
   "codemirror_mode": {
    "name": "ipython",
    "version": 3
   },
   "file_extension": ".py",
   "mimetype": "text/x-python",
   "name": "python",
   "nbconvert_exporter": "python",
   "pygments_lexer": "ipython3",
   "version": "3.8.12"
  }
 },
 "nbformat": 4,
 "nbformat_minor": 5
}
