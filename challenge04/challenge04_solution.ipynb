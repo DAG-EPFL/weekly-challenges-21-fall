{
 "cells": [
  {
   "cell_type": "markdown",
   "metadata": {},
   "source": [
    "<img src=\"https://i.ibb.co/hcrKx44/Weekly-Challenge-Banner.png\" >"
   ]
  },
  {
   "cell_type": "markdown",
   "metadata": {},
   "source": [
    "# Weekly Challenge 4\n",
    "## Description\n",
    "\n",
    "Welcome to the 4th challenge! This semester, the challenges will focus more on algorithmic tasks, with the aim of preparing you for future data science job interviews! This week, we will emulate stream processing.\n",
    "\n",
    "This challenge was adapted from [Advent of Code 2017](https://adventofcode.com)—if you like these challenges, you'll love Advent of Code (it's an advent calendar with coding challenges!)."
   ]
  },
  {
   "cell_type": "markdown",
   "metadata": {},
   "source": [
    "## The task\n",
    "\n",
    "You wake up in a parallel universe in which the Lac Léman has been replaced by a large stream. You want to take this opportunity to walk to Évian-les-Bains and relax. However, according to the locals, it's not safe to cross the stream at the moment because it's full of garbage. You look down at the stream; rather than water, you discover that it's a stream of characters.\n",
    "\n",
    "You sit for a while and record part of the stream (your puzzle input). The characters represent groups—sequences that begin with `{` and end with `}`. Within a group, there are zero or more other things, separated by commas: either another group or garbage. Since groups can contain other groups, a `}` only closes the most-recently-opened unclosed group—that is, they are nestable. Your puzzle input represents a single, large group which itself contains many smaller ones.\n",
    "\n",
    "Sometimes, instead of a group, you will find garbage. Garbage begins with `<` and ends with `>`. Between those angle brackets, almost any character can appear, including `{` and `}`. Within garbage, `<` has no special meaning.\n",
    "\n",
    "In a futile attempt to clean up the garbage, some program has canceled some of the characters within it using `!`: inside garbage, any character that comes after `!` should be ignored, including `<`, `>`, and even another `!`.\n",
    "\n",
    "You don't see any characters that deviate from these rules. Outside garbage, you only find well-formed groups, and garbage always terminates according to the rules above.\n",
    "\n",
    "Here are some self-contained pieces of garbage:\n",
    "\n",
    "- `<>`, empty garbage.\n",
    "- `<random characters>`, garbage containing random characters.\n",
    "- `<<<<>`, because the extra `<` are ignored.\n",
    "- `<{!>}>`, because the first `>` is canceled.\n",
    "- `<!!>`, because the second `!` is canceled, allowing the `>` to terminate the garbage.\n",
    "- `<!!!>>`, because the second `!` and the first `>` are canceled.\n",
    "- `<{o\"i!a,<{i<a>`, which ends at the first `>`.\n",
    "   \n",
    "Here are some examples of whole streams and the number of groups they contain:\n",
    "\n",
    "- `{}`, 1 group.\n",
    "- `{{{}}}`, 3 groups.\n",
    "- `{{},{}}`, also 3 groups.\n",
    "- `{{{},{},{{}}}}`, 6 groups.\n",
    "- `{<{},{},{{}}>}`, 1 group (which itself contains garbage).\n",
    "- `{<a>,<a>,<a>,<a>}`, 1 group.\n",
    "- `{{<a>},{<a>},{<a>},{<a>}}`, 5 groups.\n",
    "- `{{<!>},{<!>},{<!>},{<a>}}`, 2 groups (since all but the last `>` are canceled).\n",
    "\n",
    "Your task is to write a function that, given a stream, returns the total score for all groups in your input. Each group is assigned a score which is one more than the score of the group that immediately contains it. (The outermost group gets a score of 1.)\n",
    "\n",
    "- `{}`, score of 1.\n",
    "- `{{{}}}`, score of 1 + 2 + 3 = 6.\n",
    "- `{{},{}}`, score of 1 + 2 + 2 = 5.\n",
    "  "
   ]
  },
  {
   "cell_type": "markdown",
   "metadata": {},
   "source": [
    "## Solution"
   ]
  },
  {
   "cell_type": "code",
   "execution_count": 1,
   "metadata": {},
   "outputs": [],
   "source": [
    "#################################################\n",
    "############# YOUR CODE STARTS HERE #############\n",
    "#################################################\n",
    "\n",
    "from enum import Enum\n",
    "\n",
    "# define possible states of stream\n",
    "class State(Enum):\n",
    "    normal = 0\n",
    "    garbage = 1\n",
    "    canceled = 2\n",
    "    \n",
    "def get_stream_score(string):\n",
    "    state = State.normal\n",
    "    score = 0\n",
    "    level = 0\n",
    "\n",
    "    # let's process the stream\n",
    "    for char in string:\n",
    "        if state == State.canceled:\n",
    "            state = State.garbage\n",
    "            continue\n",
    "\n",
    "        elif state == State.garbage:\n",
    "            if char == '!':\n",
    "                state = State.canceled\n",
    "            elif char == '>':\n",
    "                state = State.normal\n",
    "\n",
    "        elif state == State.normal:\n",
    "            if char == '{':\n",
    "                level += 1\n",
    "            elif char == '}':\n",
    "                score += level\n",
    "                level -= 1\n",
    "            elif char == '<':\n",
    "                state = State.garbage\n",
    "                \n",
    "    return score\n",
    "\n",
    "#################################################\n",
    "############## YOUR CODE ENDS HERE ##############\n",
    "#################################################"
   ]
  },
  {
   "cell_type": "markdown",
   "metadata": {},
   "source": [
    "## Test your code"
   ]
  },
  {
   "cell_type": "code",
   "execution_count": 2,
   "metadata": {},
   "outputs": [
    {
     "name": "stdout",
     "output_type": "stream",
     "text": [
      "\u001b[92mPassed test 1\u001b[0m\n",
      "\n",
      "\u001b[92mPassed test 2\u001b[0m\n",
      "\n",
      "\u001b[92mPassed test 3\u001b[0m\n",
      "\n",
      "\u001b[92mPassed test 4\u001b[0m\n",
      "\n",
      "\u001b[92mPassed test 5\u001b[0m\n",
      "\n",
      "\u001b[92mPassed test 6\u001b[0m\n",
      "\n",
      "\u001b[92mPassed test 7\u001b[0m\n",
      "\n",
      "\u001b[92mPassed test 8\u001b[0m\n",
      "\n"
     ]
    }
   ],
   "source": [
    "# Validation\n",
    "test_inputs = [\"{}\",\n",
    "               \"{{{}}}\",\n",
    "               \"{{},{}}\",\n",
    "               \"{{{},{},{{}}}}\",\n",
    "               \"{<a>,<a>,<a>,<a>}\",\n",
    "               \"{{<ab>},{<ab>},{<ab>},{<ab>}}\",\n",
    "               \"{{<!!>},{<!!>},{<!!>},{<!!>}}\",\n",
    "               \"{{<a!>},{<a!>},{<a!>},{<ab>}}\"]\n",
    "\n",
    "test_outputs = [1,\n",
    "                6,\n",
    "                5,\n",
    "                16,\n",
    "                1,\n",
    "                9,\n",
    "                9,\n",
    "                3]\n",
    "\n",
    "for i, (input_, output_) in enumerate(zip(test_inputs, test_outputs)):\n",
    "    answer = get_stream_score(input_)\n",
    "    if answer == output_:\n",
    "        print(f'\\033[92mPassed test {i+1}\\033[0m')\n",
    "    else:\n",
    "        print(f'\\033[91mFailed test {i+1}\\033[0m')\n",
    "        print(f'Input: {input_}')\n",
    "        print(f'Output: {answer}')\n",
    "        print(f'Expected: {output_}')\n",
    "\n",
    "    print()"
   ]
  },
  {
   "cell_type": "markdown",
   "metadata": {},
   "source": [
    "## Submission\n",
    "\n",
    "Compute the **total score** of the stream given in `input.txt`."
   ]
  },
  {
   "cell_type": "code",
   "execution_count": 3,
   "metadata": {},
   "outputs": [
    {
     "data": {
      "text/plain": [
       "16869"
      ]
     },
     "execution_count": 3,
     "metadata": {},
     "output_type": "execute_result"
    }
   ],
   "source": [
    "with open(\"input.txt\", \"r\") as f:\n",
    "    stream = f.read().rstrip()\n",
    "\n",
    "get_stream_score(stream)   "
   ]
  },
  {
   "cell_type": "markdown",
   "metadata": {},
   "source": [
    "## Congratulations to everyone that got the answer!"
   ]
  }
 ],
 "metadata": {
  "interpreter": {
   "hash": "89ce0d2496d8c7799051f21e6df35e3120a1357e2f4a4ec96fa3b66d242dcbb2"
  },
  "kernelspec": {
   "display_name": "Python 3 (ipykernel)",
   "language": "python",
   "name": "python3"
  },
  "language_info": {
   "codemirror_mode": {
    "name": "ipython",
    "version": 3
   },
   "file_extension": ".py",
   "mimetype": "text/x-python",
   "name": "python",
   "nbconvert_exporter": "python",
   "pygments_lexer": "ipython3",
   "version": "3.9.5"
  }
 },
 "nbformat": 4,
 "nbformat_minor": 4
}
